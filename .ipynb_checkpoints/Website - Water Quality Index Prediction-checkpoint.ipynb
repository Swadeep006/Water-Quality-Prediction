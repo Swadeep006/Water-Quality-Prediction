{
 "cells": [
  {
   "cell_type": "code",
   "execution_count": 1,
   "id": "26d84a29",
   "metadata": {},
   "outputs": [],
   "source": [
    "# !pip install pywebio"
   ]
  },
  {
   "cell_type": "code",
   "execution_count": null,
   "id": "9f4166af-fac9-4606-9c36-323b964a331e",
   "metadata": {},
   "outputs": [
    {
     "name": "stdout",
     "output_type": "stream",
     "text": [
      " * Serving Flask app '__main__'\n",
      " * Debug mode: off\n"
     ]
    },
    {
     "name": "stderr",
     "output_type": "stream",
     "text": [
      "WARNING: This is a development server. Do not use it in a production deployment. Use a production WSGI server instead.\n",
      " * Running on http://localhost:80\n",
      "Press CTRL+C to quit\n",
      "127.0.0.1 - - [23/Jun/2024 23:32:27] \"GET /wqi HTTP/1.1\" 200 -\n",
      "127.0.0.1 - - [23/Jun/2024 23:32:27] \"GET /wqi?app=index&ack=-1 HTTP/1.1\" 200 -\n",
      "127.0.0.1 - - [23/Jun/2024 23:32:28] \"GET /wqi?app=index&ack=0 HTTP/1.1\" 200 -\n",
      "127.0.0.1 - - [23/Jun/2024 23:32:29] \"GET /wqi?app=index&ack=0 HTTP/1.1\" 200 -\n",
      "127.0.0.1 - - [23/Jun/2024 23:32:30] \"POST /wqi?app=index&ack=0&seq=0 HTTP/1.1\" 200 -\n",
      "127.0.0.1 - - [23/Jun/2024 23:32:30] \"GET /wqi?app=index&ack=0 HTTP/1.1\" 200 -\n"
     ]
    }
   ],
   "source": [
    "import pickle\n",
    "import warnings\n",
    "warnings.filterwarnings('ignore')\n",
    "from pywebio.input import *\n",
    "from pywebio.output import *\n",
    "from pywebio.platform.flask import webio_view\n",
    "from flask import Flask\n",
    "app = Flask(__name__)\n",
    "\n",
    "def getStarted():\n",
    "    with open('yearwise_wqi', 'rb') as f:\n",
    "        df = pickle.load(f)\n",
    "    with open('linear_model', 'rb') as f:\n",
    "        linear_model = pickle.load(f)\n",
    "    put_markdown('# Water Quality Index Prediction')\n",
    "    put_image(open('water.jpg', 'rb').read(), width='100%')\n",
    "    option = radio('Select a suitable option', options = ['Exploratory Data Analysis (EDA) of the water data', 'Predict Water Quality Index (WQI)'], required = True)\n",
    "    if(option == 'Exploratory Data Analysis (EDA) of the water data'):\n",
    "        put_html('<hr>')\n",
    "        put_markdown('### Please wait! Your request is being processed. ')\n",
    "        import time\n",
    "        put_processbar('bar');\n",
    "        for i in range(1, 11):\n",
    "            set_processbar('bar', i / 10)\n",
    "            time.sleep(0.1)\n",
    "        put_markdown('# Exploratory Data Analysis (EDA) of the water data')\n",
    "        put_html('<hr>')\n",
    "        put_image(open('Histogram (1).jpeg', 'rb').read(), width='100%')\n",
    "        put_html('<hr>')\n",
    "        put_image(open('Histogram (2).jpeg', 'rb').read(), width='100%')\n",
    "        put_html('<hr>')\n",
    "        put_image(open('Histogram (3).jpeg', 'rb').read(), width='100%')\n",
    "        put_html('<hr>')\n",
    "        put_image(open('Histogram (4).jpeg', 'rb').read(), width='100%')\n",
    "        put_html('<hr>')\n",
    "        put_image(open('Histogram (5).jpeg', 'rb').read(), width='100%')\n",
    "        put_html('<hr>')\n",
    "        put_image(open('Plot1.png', 'rb').read(), width='100%')\n",
    "        put_html('<hr>')\n",
    "        put_image(open('Plot2.png', 'rb').read(), width='100%')\n",
    "        put_html('<hr>')\n",
    "        put_image(open('trends_over_time.png', 'rb').read(), width='100%')\n",
    "        put_html('<hr>')\n",
    "    if(option == 'Predict Water Quality Index (WQI)'):\n",
    "        year = input('Input the year', type = NUMBER, required = True)\n",
    "        put_html('<hr>')\n",
    "        put_markdown('### Please wait! Your request is being processed. ')\n",
    "        import time\n",
    "        put_processbar('bar');\n",
    "        for i in range(1, 11):\n",
    "            set_processbar('bar', i / 10)\n",
    "            time.sleep(0.1)\n",
    "        predicted_charges = linear_model.predict([[year]]) \n",
    "        put_markdown('## Predicted Water Quality Index = `%s`' % predicted_charges[0])\n",
    "    put_html('<hr>')\n",
    "    put_html('<h1 style=\"font-size:20px; text-align:center; color:blue; background-color:powderblue;\"> Thank you! :-) <br> </h1>') \n",
    "    put_html('<hr>')\n",
    "app.add_url_rule('/wqi', 'webio_view', webio_view(getStarted), \n",
    "                 methods=['GET', 'POST', 'OPTIONS'])\n",
    "app.run(host='localhost', port=80)\n",
    "# http://localhost/wqi"
   ]
  },
  {
   "cell_type": "code",
   "execution_count": null,
   "id": "191317d0-089d-41fb-97b8-771ad694a11a",
   "metadata": {},
   "outputs": [],
   "source": []
  },
  {
   "cell_type": "code",
   "execution_count": null,
   "id": "c1ee94eb-5392-4fc3-b18b-2bb6c4d52a4b",
   "metadata": {},
   "outputs": [],
   "source": []
  }
 ],
 "metadata": {
  "kernelspec": {
   "display_name": "Python 3 (ipykernel)",
   "language": "python",
   "name": "python3"
  },
  "language_info": {
   "codemirror_mode": {
    "name": "ipython",
    "version": 3
   },
   "file_extension": ".py",
   "mimetype": "text/x-python",
   "name": "python",
   "nbconvert_exporter": "python",
   "pygments_lexer": "ipython3",
   "version": "3.11.7"
  }
 },
 "nbformat": 4,
 "nbformat_minor": 5
}
